{
 "cells": [
  {
   "cell_type": "markdown",
   "metadata": {},
   "source": [
    "# Estructura de datos lineales \n",
    "*29 de Agosto de 2017*\n",
    "\n",
    "*  Julia Lorena Guevara Sandoval\n",
    "* Luis Arturo Zasueta Bisbardis\n",
    "* María José Flores Villarreal \n"
   ]
  },
  {
   "cell_type": "markdown",
   "metadata": {},
   "source": [
    "# 1. Arreglo Dinamico"
   ]
  },
  {
   "cell_type": "code",
   "execution_count": 1,
   "metadata": {
    "collapsed": true
   },
   "outputs": [],
   "source": [
    "import numpy as np\n",
    "import math as mth"
   ]
  },
  {
   "cell_type": "markdown",
   "metadata": {},
   "source": [
    "a) Crea un arreglo dinámico de enteros.\n",
    "b) Agrega elementos como elementos los números del 1 al 100.\n",
    "c) Calcula e imprime la cantidad de elementos que tiene el arreglo.\n",
    "d) Calcula e imprime la capacidad de elementos que tiene el arreglo.\n"
   ]
  },
  {
   "cell_type": "code",
   "execution_count": 2,
   "metadata": {
    "collapsed": true
   },
   "outputs": [],
   "source": [
    "from estructuras import dinamico\n",
    "lista=dinamico()\n",
    "for i in range(100):\n",
    "    lista.add(i+1)\n"
   ]
  },
  {
   "cell_type": "code",
   "execution_count": 3,
   "metadata": {},
   "outputs": [
    {
     "name": "stdout",
     "output_type": "stream",
     "text": [
      "Espacio: 128\t Elementos: 100\n"
     ]
    },
    {
     "data": {
      "text/plain": [
       "'1-2-3-4-5-6-7-8-9-10-11-12-13-14-15-16-17-18-19-20-21-22-23-24-25-26-27-28-29-30-31-32-33-34-35-36-37-38-39-40-41-42-43-44-45-46-47-48-49-50-51-52-53-54-55-56-57-58-59-60-61-62-63-64-65-66-67-68-69-70-71-72-73-74-75-76-77-78-79-80-81-82-83-84-85-86-87-88-89-90-91-92-93-94-95-96-97-98-99-100'"
      ]
     },
     "execution_count": 3,
     "metadata": {},
     "output_type": "execute_result"
    }
   ],
   "source": [
    "lista.__str__()"
   ]
  },
  {
   "cell_type": "markdown",
   "metadata": {},
   "source": [
    "e) Elimina 50 elementos.\n",
    "f ) Calcula e imprime la capacidad de elementos que tiene el arreglo."
   ]
  },
  {
   "cell_type": "code",
   "execution_count": 4,
   "metadata": {
    "collapsed": true
   },
   "outputs": [],
   "source": [
    "for i in range(50):\n",
    "    lista.deleteLast()\n",
    "#print(lista)"
   ]
  },
  {
   "cell_type": "code",
   "execution_count": 5,
   "metadata": {},
   "outputs": [
    {
     "name": "stdout",
     "output_type": "stream",
     "text": [
      "Espacio: 96\t Elementos: 50\n"
     ]
    },
    {
     "data": {
      "text/plain": [
       "'1-2-3-4-5-6-7-8-9-10-11-12-13-14-15-16-17-18-19-20-21-22-23-24-25-26-27-28-29-30-31-32-33-34-35-36-37-38-39-40-41-42-43-44-45-46-47-48-49-50'"
      ]
     },
     "execution_count": 5,
     "metadata": {},
     "output_type": "execute_result"
    }
   ],
   "source": [
    "lista.__str__()"
   ]
  },
  {
   "cell_type": "markdown",
   "metadata": {},
   "source": [
    "g) Busca si existe el número 45 en la lista.\n",
    "Si existe, imprime: ’Sí existe el 45’\n",
    "Si no existe, imprime: ’No existe el 45’\n"
   ]
  },
  {
   "cell_type": "code",
   "execution_count": 6,
   "metadata": {},
   "outputs": [
    {
     "data": {
      "text/plain": [
       "45"
      ]
     },
     "execution_count": 6,
     "metadata": {},
     "output_type": "execute_result"
    }
   ],
   "source": [
    "lista.__getitem__(45-1)"
   ]
  },
  {
   "cell_type": "markdown",
   "metadata": {},
   "source": [
    "h) Elimina 40 elementos más.\n",
    "i) Calcula e imprime la capacidad de elementos que tiene el arreglo.\n"
   ]
  },
  {
   "cell_type": "code",
   "execution_count": 7,
   "metadata": {},
   "outputs": [
    {
     "name": "stdout",
     "output_type": "stream",
     "text": [
      "Espacio: 16\t Elementos: 10\n",
      "1-2-3-4-5-6-7-8-9-10\n"
     ]
    }
   ],
   "source": [
    "for i in range(40):\n",
    "    lista.deleteLast()\n",
    "print(lista)"
   ]
  },
  {
   "cell_type": "markdown",
   "metadata": {},
   "source": [
    "j) Imprime todos los elementos del arreglo en formato:\n",
    "elemento—elemento—elemento"
   ]
  },
  {
   "cell_type": "code",
   "execution_count": 8,
   "metadata": {},
   "outputs": [
    {
     "name": "stdout",
     "output_type": "stream",
     "text": [
      "Espacio: 16\t Elementos: 10\n"
     ]
    },
    {
     "data": {
      "text/plain": [
       "'1-2-3-4-5-6-7-8-9-10'"
      ]
     },
     "execution_count": 8,
     "metadata": {},
     "output_type": "execute_result"
    }
   ],
   "source": [
    "lista.__str__()"
   ]
  },
  {
   "cell_type": "markdown",
   "metadata": {},
   "source": [
    "# 2. Listas ligadas¶"
   ]
  },
  {
   "cell_type": "markdown",
   "metadata": {},
   "source": [
    "a) Crea una lista ligada¶"
   ]
  },
  {
   "cell_type": "code",
   "execution_count": 9,
   "metadata": {
    "collapsed": true
   },
   "outputs": [],
   "source": [
    "from listas import*\n",
    "inicio = lista1()"
   ]
  },
  {
   "cell_type": "markdown",
   "metadata": {},
   "source": [
    "b) Agrega como elementos de las letras de la 'a' a la 'z'"
   ]
  },
  {
   "cell_type": "code",
   "execution_count": 10,
   "metadata": {
    "collapsed": true
   },
   "outputs": [],
   "source": [
    "inicio.add_last('a')\n",
    "inicio.add_last('b')\n",
    "inicio.add_last('c')\n",
    "inicio.add_last('d')\n",
    "inicio.add_last('e')\n",
    "inicio.add_last('f')\n",
    "inicio.add_last('g')\n",
    "inicio.add_last('h')\n",
    "inicio.add_last('i')\n",
    "inicio.add_last('j')\n",
    "inicio.add_last('k')\n",
    "inicio.add_last('l')\n",
    "inicio.add_last('m')\n",
    "inicio.add_last('n')\n",
    "inicio.add_last('o')\n",
    "inicio.add_last('p')\n",
    "inicio.add_last('q')\n",
    "inicio.add_last('r')\n",
    "inicio.add_last('s')\n",
    "inicio.add_last('t')\n",
    "inicio.add_last('u')\n",
    "inicio.add_last('v')\n",
    "inicio.add_last('w')\n",
    "inicio.add_last('x')\n",
    "inicio.add_last('y')\n",
    "inicio.add_last('z')"
   ]
  },
  {
   "cell_type": "markdown",
   "metadata": {},
   "source": [
    "c) Calcula e imprime la cantidad de elementos que tiene la lista ligada¶"
   ]
  },
  {
   "cell_type": "code",
   "execution_count": 11,
   "metadata": {},
   "outputs": [
    {
     "data": {
      "text/plain": [
       "26"
      ]
     },
     "execution_count": 11,
     "metadata": {},
     "output_type": "execute_result"
    }
   ],
   "source": [
    "len(inicio)"
   ]
  },
  {
   "cell_type": "markdown",
   "metadata": {},
   "source": [
    "d) Muestra cuál es el 5° miembro de la lista"
   ]
  },
  {
   "cell_type": "code",
   "execution_count": 12,
   "metadata": {},
   "outputs": [
    {
     "data": {
      "text/plain": [
       "'e'"
      ]
     },
     "execution_count": 12,
     "metadata": {},
     "output_type": "execute_result"
    }
   ],
   "source": [
    "inicio[4] # Inicia en 0 "
   ]
  },
  {
   "cell_type": "markdown",
   "metadata": {},
   "source": [
    "e) Muestra cuál es el 10° miembro de la lista"
   ]
  },
  {
   "cell_type": "code",
   "execution_count": 13,
   "metadata": {},
   "outputs": [
    {
     "data": {
      "text/plain": [
       "'j'"
      ]
     },
     "execution_count": 13,
     "metadata": {},
     "output_type": "execute_result"
    }
   ],
   "source": [
    "inicio[9]"
   ]
  },
  {
   "cell_type": "markdown",
   "metadata": {},
   "source": [
    "f) Elimina el último miembro de la lista"
   ]
  },
  {
   "cell_type": "code",
   "execution_count": 14,
   "metadata": {},
   "outputs": [
    {
     "name": "stdout",
     "output_type": "stream",
     "text": [
      "a\n",
      "b\n",
      "c\n",
      "d\n",
      "e\n",
      "f\n",
      "g\n",
      "h\n",
      "i\n",
      "j\n",
      "k\n",
      "l\n",
      "m\n",
      "n\n",
      "o\n",
      "p\n",
      "q\n",
      "r\n",
      "s\n",
      "t\n",
      "u\n",
      "v\n",
      "w\n",
      "x\n",
      "y\n",
      "TAMAÑO: \n",
      "25\n"
     ]
    }
   ],
   "source": [
    "inicio.remove_last()\n",
    "for i in range(len(inicio)):\n",
    "    print(inicio[i])\n",
    "print(\"TAMAÑO: \")\n",
    "print(len(inicio))"
   ]
  },
  {
   "cell_type": "markdown",
   "metadata": {},
   "source": [
    "g) Busca dentro de la lista si existe el elemento con valor ’j’ y calcula su posición. Si no existe imprime, no existe ’j’"
   ]
  },
  {
   "cell_type": "code",
   "execution_count": 15,
   "metadata": {},
   "outputs": [
    {
     "name": "stdout",
     "output_type": "stream",
     "text": [
      "j está en la posición:10\n"
     ]
    }
   ],
   "source": [
    "letra=''\n",
    "\n",
    "for i in range(len(inicio)):\n",
    "    letra = inicio[i]\n",
    "    if letra == 'j':\n",
    "        print ( \"j está en la posición:{0}\".format(i+1))"
   ]
  },
  {
   "cell_type": "markdown",
   "metadata": {},
   "source": [
    "h) Imprime todos los elementos de la lista en formato: elemento+++elemento+++elemento¶"
   ]
  },
  {
   "cell_type": "code",
   "execution_count": 16,
   "metadata": {},
   "outputs": [
    {
     "name": "stdout",
     "output_type": "stream",
     "text": [
      "a+++b+++c+++d+++e+++f+++g+++h+++i+++j+++k+++l+++m+++n+++o+++p+++q+++r+++s+++t+++u+++v+++w+++x+++y\n"
     ]
    }
   ],
   "source": [
    "componentes = []\n",
    "for i in range (len(inicio)):\n",
    "    componentes.append(inicio[i])\n",
    "\n",
    "frase = \"+++\".join(componentes)\n",
    "print(frase)"
   ]
  },
  {
   "cell_type": "markdown",
   "metadata": {},
   "source": [
    "# 3. Lista doblemente ligada"
   ]
  },
  {
   "cell_type": "code",
   "execution_count": 17,
   "metadata": {
    "collapsed": true
   },
   "outputs": [],
   "source": [
    "from listasx2ligadas import lista"
   ]
  },
  {
   "cell_type": "markdown",
   "metadata": {},
   "source": [
    "a) Crea una lista doblemente ligada.\n",
    "\n",
    "b) Agrega como elementos cada una de las palabras de la frase:\n",
    "”Mr and Mrs Dursley of number four Privet Drive were proud to say that\n",
    "they were perfectly normal thank you very much they were the last people\n",
    "youd expect to be involved in anything strange or mysterious because they\n",
    "just didnt hold with such nonsense Mr Dursley was the director of a firm called\n",
    "Grunnings which made drills He was a big beefy man with hardly any\n",
    "neck although he did have a very large mustache Mrs Dursley was thin and\n",
    "blonde and had nearly twice the usual amount of neck which came in very\n",
    "useful as she spent so much of her time craning over garden fences spying\n",
    "on the neighbors The Dursleys had a small son called Dudley and in their\n",
    "opinion there was no finer boy anywhere”\n",
    "\n",
    "c) Calcula e imprime la cantidad de elementos que tiene la lista doblemente\n",
    "ligada.\n"
   ]
  },
  {
   "cell_type": "code",
   "execution_count": 18,
   "metadata": {},
   "outputs": [
    {
     "name": "stdout",
     "output_type": "stream",
     "text": [
      "['Mr', 'and', 'Mrs', 'Dursley', 'of', 'number', 'four', 'Pivet', 'Drive', 'were', 'proud', 'to', 'say', 'that', 'they', 'were', 'perfectly', 'normal', 'thank', 'you', 'very', 'much', 'they', 'were', 'the', 'last', 'people', 'youd', 'expect', 'to', 'be', 'involved', 'in', 'anything', 'strange', 'or', 'mysterious', 'because', 'they', 'just', 'didnt', 'hold', 'with', 'such', 'nonsense', 'Mr', 'Dursley', 'was', 'thin', 'and', 'blonde', 'and', 'had', 'nearly', 'twice', 'the', 'usual', 'amount', 'of', 'neck', 'which', 'came', 'in', 'very', 'useful', 'as', 'she', 'spent', 'so', 'much', 'of', 'her', 'time', 'craning', 'over', 'garden', 'fences', 'spying', 'on', 'the', 'neighbors', 'The', 'Dursleys', 'had', 'a', 'small', 'son', 'calles', 'Dudley', 'and', 'in', 'their', 'opinion', 'there', 'was', 'no', 'finer', 'boy', 'anywhere']\n",
      "99\n"
     ]
    }
   ],
   "source": [
    "lista1=lista()\n",
    "cadena=\"Mr and Mrs Dursley of number four Pivet Drive were proud to say that they were perfectly normal thank you very much \"+\\\n",
    "\"they were the last people youd expect to be involved in anything strange or mysterious because they just didnt hold with such \"+\\\n",
    "\"nonsense Mr Dursley was thin and blonde and had nearly twice the usual amount of neck which came in very useful as she spent \"+\\\n",
    "\"so much of her time craning over garden fences spying on the neighbors The Dursleys had a small son calles Dudley and in \"+\\\n",
    "\"their opinion there was no finer boy anywhere\"\n",
    "\n",
    "palabras=cadena.split()\n",
    "longitud=len(palabras)\n",
    "print(palabras)\n",
    "print(longitud)\n",
    "subcadena=\"neck\"\n",
    "counter=0\n",
    "\n",
    "for i in range(longitud):\n",
    "    lista1.add(palabras[i])\n",
    "    if(palabras[i]==subcadena):\n",
    "        counter+=1\n",
    "        "
   ]
  },
  {
   "cell_type": "markdown",
   "metadata": {},
   "source": [
    "d) Muestra cuál es el penúltimo elemento de la lista.\n"
   ]
  },
  {
   "cell_type": "code",
   "execution_count": 19,
   "metadata": {},
   "outputs": [
    {
     "name": "stdout",
     "output_type": "stream",
     "text": [
      "Penultimo: boy\n"
     ]
    }
   ],
   "source": [
    "lista1.__str__() \n",
    "print(\"Penultimo: \"+ palabras[longitud-2]) #Imprime el penultimo elemento de la lista  "
   ]
  },
  {
   "cell_type": "markdown",
   "metadata": {},
   "source": [
    "e) Busca dentro de la lista si existe el elemento con valor ’neck’ y calcula su\n",
    "posición. Si no existe, imprime, ’No existe neck’\n"
   ]
  },
  {
   "cell_type": "code",
   "execution_count": 20,
   "metadata": {},
   "outputs": [
    {
     "name": "stdout",
     "output_type": "stream",
     "text": [
      "Subcadena: \n",
      "1\n"
     ]
    }
   ],
   "source": [
    "if(counter==0):\n",
    "    print(\"No existe neck\")\n",
    "print(\"Subcadena: \")\n",
    "print(counter)"
   ]
  },
  {
   "cell_type": "markdown",
   "metadata": {},
   "source": [
    "f ) Imprime todos los elementos de la lista doblemente ligada que empiecen\n",
    "con ’h’"
   ]
  },
  {
   "cell_type": "code",
   "execution_count": 21,
   "metadata": {},
   "outputs": [
    {
     "name": "stdout",
     "output_type": "stream",
     "text": [
      "Palabras con h:\n",
      "had\n",
      "her\n",
      "had\n",
      "hold\n"
     ]
    }
   ],
   "source": [
    "print(\"Palabras con h:\")    \n",
    "for i in range(longitud):\n",
    "    aux = lista1[i]\n",
    "    if(aux[0]=='h'):\n",
    "        print(aux)\n"
   ]
  },
  {
   "cell_type": "markdown",
   "metadata": {
    "collapsed": true
   },
   "source": [
    "# 4. Lista Python"
   ]
  },
  {
   "cell_type": "markdown",
   "metadata": {
    "collapsed": true
   },
   "source": [
    "a) Crea una lista de Python.\n",
    "\n",
    "b) Agrega como elementos cada una de las palabras de la frase del item 3b en\n",
    "listas doblemente ligadas."
   ]
  },
  {
   "cell_type": "code",
   "execution_count": 22,
   "metadata": {},
   "outputs": [
    {
     "name": "stdout",
     "output_type": "stream",
     "text": [
      "Misma cadena 3b:\n",
      "['Mr', 'and', 'Mrs', 'Dursley', 'of', 'number', 'four', 'Pivet', 'Drive', 'were', 'proud', 'to', 'say', 'that', 'they', 'were', 'perfectly', 'normal', 'thank', 'you', 'very', 'much', 'they', 'were', 'the', 'last', 'people', 'youd', 'expect', 'to', 'be', 'involved', 'in', 'anything', 'strange', 'or', 'mysterious', 'because', 'they', 'just', 'didnt', 'hold', 'with', 'such', 'nonsense', 'Mr', 'Dursley', 'was', 'thin', 'and', 'blonde', 'and', 'had', 'nearly', 'twice', 'the', 'usual', 'amount', 'of', 'neck', 'which', 'came', 'in', 'very', 'useful', 'as', 'she', 'spent', 'so', 'much', 'of', 'her', 'time', 'craning', 'over', 'garden', 'fences', 'spying', 'on', 'the', 'neighbors', 'The', 'Dursleys', 'had', 'a', 'small', 'son', 'calles', 'Dudley', 'and', 'in', 'their', 'opinion', 'there', 'was', 'no', 'finer', 'boy', 'anywhere']\n"
     ]
    }
   ],
   "source": [
    "mylist=lista()\n",
    "for i in range(longitud):\n",
    "    mylist.add(palabras[i])\n",
    "\n",
    "print(\"Misma cadena 3b:\")\n",
    "print(palabras)\n"
   ]
  },
  {
   "cell_type": "markdown",
   "metadata": {},
   "source": [
    "c) Imprime la misma frase, pero cada palabra con sus letras en orden inverso."
   ]
  },
  {
   "cell_type": "code",
   "execution_count": 23,
   "metadata": {},
   "outputs": [
    {
     "name": "stdout",
     "output_type": "stream",
     "text": [
      "Inverso:\n",
      "['rM', 'dna', 'srM', 'yelsruD', 'fo', 'rebmun', 'ruof', 'teviP', 'evirD', 'erew', 'duorp', 'ot', 'yas', 'taht', 'yeht', 'erew', 'yltcefrep', 'lamron', 'knaht', 'uoy', 'yrev', 'hcum', 'yeht', 'erew', 'eht', 'tsal', 'elpoep', 'duoy', 'tcepxe', 'ot', 'eb', 'devlovni', 'ni', 'gnihtyna', 'egnarts', 'ro', 'suoiretsym', 'esuaceb', 'yeht', 'tsuj', 'tndid', 'dloh', 'htiw', 'hcus', 'esnesnon', 'rM', 'yelsruD', 'saw', 'niht', 'dna', 'ednolb', 'dna', 'dah', 'ylraen', 'eciwt', 'eht', 'lausu', 'tnuoma', 'fo', 'kcen', 'hcihw', 'emac', 'ni', 'yrev', 'lufesu', 'sa', 'ehs', 'tneps', 'os', 'hcum', 'fo', 'reh', 'emit', 'gninarc', 'revo', 'nedrag', 'secnef', 'gniyps', 'no', 'eht', 'srobhgien', 'ehT', 'syelsruD', 'dah', 'a', 'llams', 'nos', 'sellac', 'yelduD', 'dna', 'ni', 'rieht', 'noinipo', 'ereht', 'saw', 'on', 'renif', 'yob', 'erehwyna']\n"
     ]
    }
   ],
   "source": [
    "inverso =[x[::-1] for x in palabras]\n",
    "print(\"Inverso:\")\n",
    "print(inverso)"
   ]
  },
  {
   "cell_type": "markdown",
   "metadata": {},
   "source": [
    "d) Crea una nueva lista en que los elementos sean los tamaños de cada una\n",
    "de las palabras de la lista anterior."
   ]
  },
  {
   "cell_type": "code",
   "execution_count": 24,
   "metadata": {},
   "outputs": [
    {
     "ename": "NameError",
     "evalue": "name 'tamano' is not defined",
     "output_type": "error",
     "traceback": [
      "\u001b[0;31m---------------------------------------------------------------------------\u001b[0m",
      "\u001b[0;31mNameError\u001b[0m                                 Traceback (most recent call last)",
      "\u001b[0;32m<ipython-input-24-912b83f608d1>\u001b[0m in \u001b[0;36m<module>\u001b[0;34m()\u001b[0m\n\u001b[1;32m      1\u001b[0m \u001b[0;32mfor\u001b[0m \u001b[0mi\u001b[0m \u001b[0;32min\u001b[0m \u001b[0mrange\u001b[0m\u001b[0;34m(\u001b[0m\u001b[0mlongitud\u001b[0m\u001b[0;34m)\u001b[0m\u001b[0;34m:\u001b[0m\u001b[0;34m\u001b[0m\u001b[0m\n\u001b[1;32m      2\u001b[0m     \u001b[0mtam\u001b[0m \u001b[0;34m=\u001b[0m \u001b[0mlen\u001b[0m\u001b[0;34m(\u001b[0m\u001b[0mmylist\u001b[0m\u001b[0;34m[\u001b[0m\u001b[0mi\u001b[0m\u001b[0;34m]\u001b[0m\u001b[0;34m)\u001b[0m\u001b[0;34m\u001b[0m\u001b[0m\n\u001b[0;32m----> 3\u001b[0;31m     \u001b[0mtamano\u001b[0m\u001b[0;34m.\u001b[0m\u001b[0madd\u001b[0m\u001b[0;34m(\u001b[0m\u001b[0mtam\u001b[0m\u001b[0;34m)\u001b[0m\u001b[0;34m\u001b[0m\u001b[0m\n\u001b[0m",
      "\u001b[0;31mNameError\u001b[0m: name 'tamano' is not defined"
     ]
    }
   ],
   "source": [
    "for i in range(longitud):\n",
    "    tam = len(mylist[i])\n",
    "    tamano.add(tam)"
   ]
  },
  {
   "cell_type": "markdown",
   "metadata": {},
   "source": [
    "e) Encuentra el elemento mayor de la lista nueva."
   ]
  },
  {
   "cell_type": "markdown",
   "metadata": {},
   "source": [
    "f ) Encuentra la suma de todos los elementos de la lista."
   ]
  },
  {
   "cell_type": "markdown",
   "metadata": {},
   "source": [
    "g) Encuentra el promedio de todos los elementos de la lista."
   ]
  },
  {
   "cell_type": "code",
   "execution_count": null,
   "metadata": {},
   "outputs": [],
   "source": [
    "maximo=0\n",
    "suma=0\n",
    "promedio=0\n",
    "\n",
    "for i in range(longitud):\n",
    "    print(tamano[i])\n",
    "    if(tamano[i]>maximo):\n",
    "        maximo=tamano[i]\n",
    "    suma+=tamano[i]\n",
    "promedio=suma/longitud\n",
    "print(\"Elemento mayor: \")\n",
    "print(maximo)\n",
    "print(\"Suma: \")\n",
    "print(suma)\n",
    "print(\"Promedio: \")\n",
    "print(promedio)"
   ]
  },
  {
   "cell_type": "markdown",
   "metadata": {},
   "source": [
    "h) Encuentra cuál es la palabra más larga de la lista de palabras."
   ]
  },
  {
   "cell_type": "code",
   "execution_count": null,
   "metadata": {},
   "outputs": [],
   "source": [
    "for i in range(longitud): \n",
    "    aux2=mylist[i]\n",
    "    if((len(aux2))== maximo):\n",
    "        print(\"Palabra con mayor numero de caracteres\")\n",
    "        print(aux2)"
   ]
  }
 ],
 "metadata": {
  "kernelspec": {
   "display_name": "Python 3",
   "language": "python",
   "name": "python3"
  },
  "language_info": {
   "codemirror_mode": {
    "name": "ipython",
    "version": 3
   },
   "file_extension": ".py",
   "mimetype": "text/x-python",
   "name": "python",
   "nbconvert_exporter": "python",
   "pygments_lexer": "ipython3",
   "version": "3.6.1"
  }
 },
 "nbformat": 4,
 "nbformat_minor": 2
}
